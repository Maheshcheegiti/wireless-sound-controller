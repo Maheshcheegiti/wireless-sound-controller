{
 "cells": [
  {
   "cell_type": "code",
   "execution_count": 1,
   "metadata": {},
   "outputs": [
    {
     "ename": "KeyboardInterrupt",
     "evalue": "",
     "output_type": "error",
     "traceback": [
      "\u001b[1;31m---------------------------------------------------------------------------\u001b[0m",
      "\u001b[1;31mKeyboardInterrupt\u001b[0m                         Traceback (most recent call last)",
      "\u001b[1;32mc:\\Users\\gopi\\Desktop\\PROJECT\\WirelessSoundController.ipynb Cell 1'\u001b[0m in \u001b[0;36m<cell line: 24>\u001b[1;34m()\u001b[0m\n\u001b[0;32m     <a href='vscode-notebook-cell:/c%3A/Users/gopi/Desktop/PROJECT/WirelessSoundController.ipynb#ch0000000?line=24'>25</a>\u001b[0m success , img \u001b[39m=\u001b[39mcap\u001b[39m.\u001b[39mread()\n\u001b[0;32m     <a href='vscode-notebook-cell:/c%3A/Users/gopi/Desktop/PROJECT/WirelessSoundController.ipynb#ch0000000?line=25'>26</a>\u001b[0m imgRGB \u001b[39m=\u001b[39m cv2\u001b[39m.\u001b[39mcvtColor(img , cv2\u001b[39m.\u001b[39mCOLOR_BGR2RGB)\n\u001b[1;32m---> <a href='vscode-notebook-cell:/c%3A/Users/gopi/Desktop/PROJECT/WirelessSoundController.ipynb#ch0000000?line=26'>27</a>\u001b[0m results \u001b[39m=\u001b[39m hands\u001b[39m.\u001b[39;49mprocess(imgRGB)\n\u001b[0;32m     <a href='vscode-notebook-cell:/c%3A/Users/gopi/Desktop/PROJECT/WirelessSoundController.ipynb#ch0000000?line=27'>28</a>\u001b[0m \u001b[39m#print(results.multi_hand_landmarks)\u001b[39;00m\n\u001b[0;32m     <a href='vscode-notebook-cell:/c%3A/Users/gopi/Desktop/PROJECT/WirelessSoundController.ipynb#ch0000000?line=29'>30</a>\u001b[0m \u001b[39mif\u001b[39;00m results\u001b[39m.\u001b[39mmulti_hand_landmarks:\n",
      "File \u001b[1;32mc:\\Python310\\lib\\site-packages\\mediapipe\\python\\solutions\\hands.py:153\u001b[0m, in \u001b[0;36mHands.process\u001b[1;34m(self, image)\u001b[0m\n\u001b[0;32m    <a href='file:///c%3A/Python310/lib/site-packages/mediapipe/python/solutions/hands.py?line=131'>132</a>\u001b[0m \u001b[39mdef\u001b[39;00m \u001b[39mprocess\u001b[39m(\u001b[39mself\u001b[39m, image: np\u001b[39m.\u001b[39mndarray) \u001b[39m-\u001b[39m\u001b[39m>\u001b[39m NamedTuple:\n\u001b[0;32m    <a href='file:///c%3A/Python310/lib/site-packages/mediapipe/python/solutions/hands.py?line=132'>133</a>\u001b[0m   \u001b[39m\"\"\"Processes an RGB image and returns the hand landmarks and handedness of each detected hand.\u001b[39;00m\n\u001b[0;32m    <a href='file:///c%3A/Python310/lib/site-packages/mediapipe/python/solutions/hands.py?line=133'>134</a>\u001b[0m \n\u001b[0;32m    <a href='file:///c%3A/Python310/lib/site-packages/mediapipe/python/solutions/hands.py?line=134'>135</a>\u001b[0m \u001b[39m  Args:\u001b[39;00m\n\u001b[1;32m   (...)\u001b[0m\n\u001b[0;32m    <a href='file:///c%3A/Python310/lib/site-packages/mediapipe/python/solutions/hands.py?line=149'>150</a>\u001b[0m \u001b[39m         right hand) of the detected hand.\u001b[39;00m\n\u001b[0;32m    <a href='file:///c%3A/Python310/lib/site-packages/mediapipe/python/solutions/hands.py?line=150'>151</a>\u001b[0m \u001b[39m  \"\"\"\u001b[39;00m\n\u001b[1;32m--> <a href='file:///c%3A/Python310/lib/site-packages/mediapipe/python/solutions/hands.py?line=152'>153</a>\u001b[0m   \u001b[39mreturn\u001b[39;00m \u001b[39msuper\u001b[39;49m()\u001b[39m.\u001b[39;49mprocess(input_data\u001b[39m=\u001b[39;49m{\u001b[39m'\u001b[39;49m\u001b[39mimage\u001b[39;49m\u001b[39m'\u001b[39;49m: image})\n",
      "File \u001b[1;32mc:\\Python310\\lib\\site-packages\\mediapipe\\python\\solution_base.py:350\u001b[0m, in \u001b[0;36mSolutionBase.process\u001b[1;34m(self, input_data)\u001b[0m\n\u001b[0;32m    <a href='file:///c%3A/Python310/lib/site-packages/mediapipe/python/solution_base.py?line=343'>344</a>\u001b[0m   \u001b[39melse\u001b[39;00m:\n\u001b[0;32m    <a href='file:///c%3A/Python310/lib/site-packages/mediapipe/python/solution_base.py?line=344'>345</a>\u001b[0m     \u001b[39mself\u001b[39m\u001b[39m.\u001b[39m_graph\u001b[39m.\u001b[39madd_packet_to_input_stream(\n\u001b[0;32m    <a href='file:///c%3A/Python310/lib/site-packages/mediapipe/python/solution_base.py?line=345'>346</a>\u001b[0m         stream\u001b[39m=\u001b[39mstream_name,\n\u001b[0;32m    <a href='file:///c%3A/Python310/lib/site-packages/mediapipe/python/solution_base.py?line=346'>347</a>\u001b[0m         packet\u001b[39m=\u001b[39m\u001b[39mself\u001b[39m\u001b[39m.\u001b[39m_make_packet(input_stream_type,\n\u001b[0;32m    <a href='file:///c%3A/Python310/lib/site-packages/mediapipe/python/solution_base.py?line=347'>348</a>\u001b[0m                                  data)\u001b[39m.\u001b[39mat(\u001b[39mself\u001b[39m\u001b[39m.\u001b[39m_simulated_timestamp))\n\u001b[1;32m--> <a href='file:///c%3A/Python310/lib/site-packages/mediapipe/python/solution_base.py?line=349'>350</a>\u001b[0m \u001b[39mself\u001b[39;49m\u001b[39m.\u001b[39;49m_graph\u001b[39m.\u001b[39;49mwait_until_idle()\n\u001b[0;32m    <a href='file:///c%3A/Python310/lib/site-packages/mediapipe/python/solution_base.py?line=350'>351</a>\u001b[0m \u001b[39m# Create a NamedTuple object where the field names are mapping to the graph\u001b[39;00m\n\u001b[0;32m    <a href='file:///c%3A/Python310/lib/site-packages/mediapipe/python/solution_base.py?line=351'>352</a>\u001b[0m \u001b[39m# output stream names.\u001b[39;00m\n\u001b[0;32m    <a href='file:///c%3A/Python310/lib/site-packages/mediapipe/python/solution_base.py?line=352'>353</a>\u001b[0m solution_outputs \u001b[39m=\u001b[39m collections\u001b[39m.\u001b[39mnamedtuple(\n\u001b[0;32m    <a href='file:///c%3A/Python310/lib/site-packages/mediapipe/python/solution_base.py?line=353'>354</a>\u001b[0m     \u001b[39m'\u001b[39m\u001b[39mSolutionOutputs\u001b[39m\u001b[39m'\u001b[39m, \u001b[39mself\u001b[39m\u001b[39m.\u001b[39m_output_stream_type_info\u001b[39m.\u001b[39mkeys())\n",
      "\u001b[1;31mKeyboardInterrupt\u001b[0m: "
     ]
    },
    {
     "ename": "",
     "evalue": "",
     "output_type": "error",
     "traceback": [
      "\u001b[1;31mThe Kernel crashed while executing code in the the current cell or a previous cell. Please review the code in the cell(s) to identify a possible cause of the failure. Click <a href='https://aka.ms/vscodeJupyterKernelCrash'>here</a> for more info. View Jupyter <a href='command:jupyter.viewOutput'>log</a> for further details."
     ]
    }
   ],
   "source": [
    "#code written by --CHEEGITI MAHESH-- #\n",
    "import cv2\n",
    "import mediapipe as mp\n",
    "from mediapipe.python.solutions.drawing_utils import draw_landmarks\n",
    "import math\n",
    "from ctypes import cast, POINTER\n",
    "from comtypes import CLSCTX_ALL\n",
    "from pycaw.pycaw import AudioUtilities, IAudioEndpointVolume\n",
    "import numpy\n",
    "\n",
    "devices = AudioUtilities.GetSpeakers()\n",
    "interface = devices.Activate(\n",
    "    IAudioEndpointVolume._iid_, CLSCTX_ALL, None)\n",
    "volume = cast(interface, POINTER(IAudioEndpointVolume))\n",
    "\n",
    "#volume.GetMasterVolumeLevel()\n",
    "#\n",
    "\n",
    "cap = cv2.VideoCapture(0)\n",
    "mpHands = mp.solutions.hands\n",
    "hands = mpHands.Hands()\n",
    "mpDraw = mp.solutions.drawing_utils\n",
    "\n",
    "while True:\n",
    "    success , img =cap.read()\n",
    "    imgRGB = cv2.cvtColor(img , cv2.COLOR_BGR2RGB)\n",
    "    results = hands.process(imgRGB)\n",
    "    #print(results.multi_hand_landmarks)\n",
    "\n",
    "    if results.multi_hand_landmarks:\n",
    "        for handLms in results.multi_hand_landmarks:\n",
    "            lmList = []\n",
    "            for id ,lm in enumerate(handLms.landmark):\n",
    "                #print(id , lm)\n",
    "                h ,w , c = img.shape\n",
    "                cx ,cy = int(lm.x*w) , int(lm.y*h)\n",
    "                lmList.append([id ,cx, cy])\n",
    "\n",
    "                mpDraw.draw_landmarks(img , handLms ,mpHands.HAND_CONNECTIONS)\n",
    "            \n",
    "        if lmList:\n",
    "            x1 ,y1  = lmList[4][1] , lmList[4][2]\n",
    "            x2, y2  = lmList[8][1], lmList[8][2]\n",
    "            cv2.circle(img , (x1, y1) , 15 ,(255,0,0) , cv2.FILLED )\n",
    "            cv2.circle(img , (x2, y2) , 15 ,(255,0,0) , cv2.FILLED )\n",
    "            cv2.line(img , (x1 , y1) , (x2 , y2) ,(255 , 0 , 255) , 3)\n",
    "\n",
    "            z1 , z2 = (x1+x2)//2 , (y1+y2)//2\n",
    "            length = math.hypot(x2- x1 , y2- y1)\n",
    "            if length<50 :\n",
    "                cv2.circle(img , (z1 ,z2) ,15 , (255 , 255 , 255) ,cv2.FILLED)\n",
    "            \n",
    "            #print(length)\n",
    "            \n",
    "            #volume.GetMute()\n",
    "        volRange  = volume.GetVolumeRange()\n",
    "        minVol = volRange[0]\n",
    "        maxVol = volRange[1]\n",
    "        vol = numpy.interp(length , [50 ,300] , [minVol ,maxVol])\n",
    "        volBar = numpy.interp(length , [50 ,300] , [400 ,150])\n",
    "        volPer = numpy.interp(length , [50 ,300] , [0 ,100])\n",
    "\n",
    "        #length =50  ===> volPer =0\n",
    "        #length = 300 ===>volPer =100\n",
    "        #length = 175 ==> volPer = 50\n",
    "        #print(vol)\n",
    "        #print(int(length) , vol)\n",
    "        #print(minVol ,maxVol)\n",
    "        volume.SetMasterVolumeLevel(vol, None)\n",
    "        cv2.rectangle(img , (50 ,150) , (85 , 400) ,(123,213,122) ,3)\n",
    "        cv2.rectangle(img , (50 , int(volBar)) , (85 ,400) ,(0, 231,23) ,cv2.FILLED)\n",
    "        cv2.putText(img , str(int(volPer)) , (40, 450) ,cv2.FONT_HERSHEY_PLAIN ,4 , (24,34,34) , 3)\n",
    "        \n",
    "\n",
    "    cv2.imshow(\"Image\" ,img)\n",
    "    cv2.waitKey(1)\n",
    "\n",
    "\n",
    "\n",
    "\n",
    "# Length of line ===50, 300\n",
    "# Range of sound is ===-21, 20\n",
    "# Range of actual volume === 0,100\n"
   ]
  },
  {
   "cell_type": "code",
   "execution_count": null,
   "metadata": {},
   "outputs": [],
   "source": []
  }
 ],
 "metadata": {
  "interpreter": {
   "hash": "369f2c481f4da34e4445cda3fffd2e751bd1c4d706f27375911949ba6bb62e1c"
  },
  "kernelspec": {
   "display_name": "Python 3 (ipykernel)",
   "language": "python",
   "name": "python3"
  },
  "language_info": {
   "codemirror_mode": {
    "name": "ipython",
    "version": 3
   },
   "file_extension": ".py",
   "mimetype": "text/x-python",
   "name": "python",
   "nbconvert_exporter": "python",
   "pygments_lexer": "ipython3",
   "version": "3.9.7"
  }
 },
 "nbformat": 4,
 "nbformat_minor": 2
}
